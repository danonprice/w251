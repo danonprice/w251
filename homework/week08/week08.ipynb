{
 "cells": [
  {
   "cell_type": "markdown",
   "metadata": {},
   "source": [
    "Danon Price <br>\n",
    "Week08 Homework"
   ]
  },
  {
   "cell_type": "markdown",
   "metadata": {},
   "source": [
    "### Part 1: Image Annotation\n",
    "\n",
    "Questions:\n",
    "\n",
    "1 . In the time allowed, how many images did you annotate?\n",
    "\n",
    "> 218 images were annotated in the time alloted.\n",
    "\n",
    "2 . Home many instances of the Millennium Falcon did you annotate? How many TIE Fighters?\n",
    "\n",
    "> 161 instances of the Millenium Falcon are annotated. 187 instances of TIE Fighters are annotated.\n",
    "\n",
    "3 . Based on this experience, how would you handle the annotation of large image data set?\n",
    "\n",
    "> Accumulating a large dataset of annotated images is a tedious task for an individual. I would look to outsource the annotation to crowdworkers through a service like Amazon Mechanical Turk.\n",
    "\n",
    "4 . Think about image augmentation? How would augmentations such as flip, rotation, scale, cropping, and translation effect the annotations?\n",
    "\n",
    "> The bounding boxes for annotations would be affected by the listed augmentations. The corners of the bounding boxes would move according to the augmentation. For example, a flip would require a mirrored translation of the bounding box coordinates over the flipped axis. The size of the bounding box would be affected by scaling and cropping."
   ]
  },
  {
   "cell_type": "markdown",
   "metadata": {},
   "source": [
    "### Part 2: Image Augmentation\n",
    "\n",
    "Question:\n",
    "\n",
    "Describe the following augmentations in your own words\n",
    "- Flip\n",
    "\n",
    "> The image is mirrored over a vertical or horizontal axis.\n",
    "\n",
    "- Rotation\n",
    "\n",
    "> The image is moved in a circle around a corner. \n",
    "\n",
    "- Scale\n",
    "\n",
    "> The number of pixels that forms the image are reduced or increased altering the size of the image accordingly.\n",
    "\n",
    "- Crop\n",
    "\n",
    "> Portions of the image are removed.\n",
    "\n",
    "- Translation\n",
    "\n",
    "> Moves the pixels in the image by some amount.\n",
    "\n",
    "- Noise\n",
    "\n",
    "> Add randomly generated pixels throughout the image."
   ]
  },
  {
   "cell_type": "markdown",
   "metadata": {},
   "source": [
    "### Part 3: Audio Annotation\n",
    "\n",
    "Question:\n",
    "\n",
    "Image annotations require the coordinates of the objects and their classes; in your option, what is needed for an audio annotation?\n",
    "\n",
    "> Audio annotations require a start and end location for the snippet as well as a class label and proximity tag (near, far, not sure)."
   ]
  }
 ],
 "metadata": {
  "kernelspec": {
   "display_name": "Python 3",
   "language": "python",
   "name": "python3"
  },
  "language_info": {
   "codemirror_mode": {
    "name": "ipython",
    "version": 3
   },
   "file_extension": ".py",
   "mimetype": "text/x-python",
   "name": "python",
   "nbconvert_exporter": "python",
   "pygments_lexer": "ipython3",
   "version": "3.6.1"
  }
 },
 "nbformat": 4,
 "nbformat_minor": 2
}
